{
 "cells": [
  {
   "cell_type": "code",
   "execution_count": null,
   "id": "cb1a4be5",
   "metadata": {},
   "outputs": [],
   "source": [
    "import multiprocessing\n",
    "import random\n",
    "\n",
    "def quick_sort_parallel(arr):\n",
    "    \"\"\"\n",
    "    Performs quick sort in parallel using a divide and conquer strategy.\n",
    "    \n",
    "    Args:\n",
    "        arr: The list to be sorted.\n",
    "\n",
    "    Returns:\n",
    "        A new sorted list.\n",
    "    \"\"\"\n",
    "    if len(arr) <= 1:\n",
    "        return arr\n",
    "\n",
    "    pivot = random.choice(arr)\n",
    "    less = [x for x in arr if x < pivot]\n",
    "    equal = [x for x in arr if x == pivot]\n",
    "    greater = [x for x in arr if x > pivot]\n",
    "\n",
    "    if multiprocessing.cpu_count() > 1 and len(arr) > 1000:  # Threshold for parallelism\n",
    "        with multiprocessing.Pool(processes=multiprocessing.cpu_count()) as pool:\n",
    "            less_sorted = pool.apply_async(quick_sort_parallel, (less,))\n",
    "            greater_sorted = pool.apply_async(quick_sort_parallel, (greater,))\n",
    "            return less_sorted.get() + equal + greater_sorted.get()\n",
    "    else:\n",
    "        return quick_sort_parallel(less) + equal + quick_sort_parallel(greater)\n",
    "\n",
    "if __name__ == '__main__':\n",
    "    # Get input from the user\n",
    "    try:\n",
    "        user_input = input(\"Enter a list of numbers separated by spaces: \")\n",
    "        nums = [int(x) for x in user_input.split()]\n",
    "    except ValueError:\n",
    "        print(\"Invalid input. Please enter a list of numbers.\")\n",
    "        exit()\n",
    "\n",
    "    sorted_nums = quick_sort_parallel(nums)\n",
    "    print(\"Sorted list:\", sorted_nums)\n"
   ]
  }
 ],
 "metadata": {
  "kernelspec": {
   "display_name": "Python 3 (ipykernel)",
   "language": "python",
   "name": "python3"
  },
  "language_info": {
   "codemirror_mode": {
    "name": "ipython",
    "version": 3
   },
   "file_extension": ".py",
   "mimetype": "text/x-python",
   "name": "python",
   "nbconvert_exporter": "python",
   "pygments_lexer": "ipython3",
   "version": "3.11.5"
  }
 },
 "nbformat": 4,
 "nbformat_minor": 5
}
