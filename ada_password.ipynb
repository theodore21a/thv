{
 "cells": [
  {
   "cell_type": "code",
   "execution_count": 1,
   "id": "5c6d85f8",
   "metadata": {},
   "outputs": [
    {
     "name": "stdout",
     "output_type": "stream",
     "text": [
      "Enter your password:felina\n",
      "your password is weak:Password must atleast be 8 characters.\n",
      "suggested strong password:felinaAA8@\n"
     ]
    }
   ],
   "source": [
    "import re \n",
    "\n",
    "def check_password_strength(password):\n",
    "    if len(password)<8:\n",
    "        return False,\"Password must atleast be 8 characters.\"\n",
    "    if not re.search(r'[A-Z]',password):\n",
    "        return False,\"Password must contain atleast one uppercase\"\n",
    "    if not re.search(r'[a-z]',password):\n",
    "        return False,\"Password must contain atleast one lowercase\"\n",
    "    if not re.search(r'[0-9]',password):\n",
    "        return False,\"Password must contain atleast one digit\"\n",
    "    if not re.search(r'[!@#$%^&*()<>=]',password):\n",
    "        return False,\"Password must contain atleast one special character\"\n",
    "    return True,\"password is strong\"\n",
    "def suggest_strong_password(password):\n",
    "    while len(password)<8:\n",
    "        password+=\"A\"\n",
    "        \n",
    "    if not re.search(r'[A-Z]',password):\n",
    "        password+=\"Z\"\n",
    "    if not re.search(r'[a-z]',password):\n",
    "        password+=\"c\"        \n",
    "    if not re.search(r'[0-9]',password):\n",
    "        password+=\"8\"     \n",
    "    if not re.search(r'[!@#$%^&*()+=]',password):\n",
    "        password+=\"@\"  \n",
    "        \n",
    "    return password\n",
    "def main():\n",
    "    password=input(\"Enter your password:\")\n",
    "    is_strong,message=check_password_strength(password)\n",
    "    if is_strong:\n",
    "        print(message)\n",
    "    else:\n",
    "        print(f\"your password is weak:{message}\")\n",
    "        suggested_password=suggest_strong_password(password)\n",
    "        print(f\"suggested strong password:{suggested_password}\")\n",
    "        \n",
    "if __name__==\"__main__\":\n",
    "    main()\n"
   ]
  },
  {
   "cell_type": "code",
   "execution_count": null,
   "id": "c0a863a6",
   "metadata": {},
   "outputs": [],
   "source": []
  }
 ],
 "metadata": {
  "kernelspec": {
   "display_name": "Python 3 (ipykernel)",
   "language": "python",
   "name": "python3"
  },
  "language_info": {
   "codemirror_mode": {
    "name": "ipython",
    "version": 3
   },
   "file_extension": ".py",
   "mimetype": "text/x-python",
   "name": "python",
   "nbconvert_exporter": "python",
   "pygments_lexer": "ipython3",
   "version": "3.11.5"
  }
 },
 "nbformat": 4,
 "nbformat_minor": 5
}
