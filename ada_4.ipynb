{
 "cells": [
  {
   "cell_type": "code",
   "execution_count": null,
   "id": "c8f16941",
   "metadata": {},
   "outputs": [],
   "source": [
    "class GraphColoring:\n",
    "    def __init__(self, vertices):  # Corrected constructor\n",
    "        self.v = vertices\n",
    "        self.graph = [[] for _ in range(vertices)]\n",
    "\n",
    "    def add_edge(self, u, v):\n",
    "        self.graph[u].append(v)\n",
    "        self.graph[v].append(u)\n",
    "\n",
    "    def color_graph(self):\n",
    "        colors = [-1] * self.v\n",
    "        for station in range(self.v):\n",
    "            # Collect used colors from adjacent stations\n",
    "            used = {colors[neighbor] for neighbor in self.graph[station] if colors[neighbor] != -1}\n",
    "            # Assign the first available color\n",
    "            for color in range(self.v):\n",
    "                if color not in used:\n",
    "                    colors[station] = color\n",
    "                    break\n",
    "        return colors\n",
    "\n",
    "# Menu-driven program\n",
    "v = int(input(\"Enter number of stations: \"))\n",
    "graph = GraphColoring(v)\n",
    "\n",
    "while True:\n",
    "    print(\"\\n1. Add interference (edge)\\n2. Assign frequencies\\n3. Exit\")\n",
    "    choice = input(\"Enter choice: \")\n",
    "\n",
    "    if choice == '1':\n",
    "        u, v = map(int, input(\"Enter stations (u v): \").split())\n",
    "        if u < v and u >= 0 and v >= 0 and u < graph.v and v < graph.v:\n",
    "            graph.add_edge(u, v)\n",
    "            print(f\"Interference (edge) added between station {u} and {v}.\")\n",
    "        else:\n",
    "            print(\"Invalid station numbers. Please ensure they are within the range and distinct.\")\n",
    "    elif choice == '2':\n",
    "        frequencies = graph.color_graph()\n",
    "        print(\"Station frequencies (colors):\")\n",
    "        for i, color in enumerate(frequencies):\n",
    "            print(f\"Station {i}: Frequency {color}\")\n",
    "    elif choice == '3':\n",
    "        print(\"Exiting program.\")\n",
    "        break\n",
    "    else:\n",
    "        print(\"Invalid choice. Please try again.\")\n"
   ]
  }
 ],
 "metadata": {
  "kernelspec": {
   "display_name": "Python 3 (ipykernel)",
   "language": "python",
   "name": "python3"
  },
  "language_info": {
   "codemirror_mode": {
    "name": "ipython",
    "version": 3
   },
   "file_extension": ".py",
   "mimetype": "text/x-python",
   "name": "python",
   "nbconvert_exporter": "python",
   "pygments_lexer": "ipython3",
   "version": "3.11.5"
  }
 },
 "nbformat": 4,
 "nbformat_minor": 5
}
